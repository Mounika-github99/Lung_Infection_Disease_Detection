{
 "cells": [
  {
   "cell_type": "code",
   "execution_count": 1,
   "id": "4adac36f",
   "metadata": {
    "execution": {
     "iopub.execute_input": "2025-09-09T13:25:10.208118Z",
     "iopub.status.busy": "2025-09-09T13:25:10.207420Z",
     "iopub.status.idle": "2025-09-09T13:25:31.344611Z",
     "shell.execute_reply": "2025-09-09T13:25:31.343662Z"
    },
    "papermill": {
     "duration": 21.144829,
     "end_time": "2025-09-09T13:25:31.346756",
     "exception": false,
     "start_time": "2025-09-09T13:25:10.201927",
     "status": "completed"
    },
    "tags": []
   },
   "outputs": [],
   "source": [
    "import matplotlib.pyplot as plt\n",
    "import numpy as np\n",
    "import os\n",
    "import tensorflow as tf\n",
    "import random\n",
    "import cv2\n",
    "from tqdm import tqdm\n",
    "from tensorflow.keras.preprocessing.image import ImageDataGenerator\n",
    "from tensorflow.keras.models import Sequential\n",
    "from tensorflow.keras.layers import Dense, Conv2D, MaxPooling2D, Flatten, Dropout\n",
    "from sklearn.metrics import confusion_matrix, ConfusionMatrixDisplay"
   ]
  },
  {
   "cell_type": "code",
   "execution_count": 2,
   "id": "d9bebf75",
   "metadata": {
    "execution": {
     "iopub.execute_input": "2025-09-09T13:25:31.356731Z",
     "iopub.status.busy": "2025-09-09T13:25:31.356228Z",
     "iopub.status.idle": "2025-09-09T13:25:31.765903Z",
     "shell.execute_reply": "2025-09-09T13:25:31.764962Z"
    },
    "papermill": {
     "duration": 0.41651,
     "end_time": "2025-09-09T13:25:31.767831",
     "exception": false,
     "start_time": "2025-09-09T13:25:31.351321",
     "status": "completed"
    },
    "tags": []
   },
   "outputs": [
    {
     "name": "stdout",
     "output_type": "stream",
     "text": [
      "Path to dataset files: /kaggle/input/tuberculosis-tb-chest-xray-dataset\n"
     ]
    }
   ],
   "source": [
    "import kagglehub\n",
    "\n",
    "# Download latest version\n",
    "path = kagglehub.dataset_download(\"tawsifurrahman/tuberculosis-tb-chest-xray-dataset\")\n",
    "\n",
    "print(\"Path to dataset files:\", path)"
   ]
  },
  {
   "cell_type": "code",
   "execution_count": 3,
   "id": "a7a0f3f7",
   "metadata": {
    "execution": {
     "iopub.execute_input": "2025-09-09T13:25:31.777110Z",
     "iopub.status.busy": "2025-09-09T13:25:31.776841Z",
     "iopub.status.idle": "2025-09-09T13:25:31.780478Z",
     "shell.execute_reply": "2025-09-09T13:25:31.779792Z"
    },
    "papermill": {
     "duration": 0.010183,
     "end_time": "2025-09-09T13:25:31.782145",
     "exception": false,
     "start_time": "2025-09-09T13:25:31.771962",
     "status": "completed"
    },
    "tags": []
   },
   "outputs": [],
   "source": [
    "no_tb_data = \"/kaggle/input/tuberculosis-tb-chest-xray-dataset/TB_Chest_Radiography_Database/Normal\"\n",
    "tb_data = \"/kaggle/input/tuberculosis-tb-chest-xray-dataset/TB_Chest_Radiography_Database/Tuberculosis\""
   ]
  },
  {
   "cell_type": "code",
   "execution_count": 4,
   "id": "b2b8d050",
   "metadata": {
    "execution": {
     "iopub.execute_input": "2025-09-09T13:25:31.792202Z",
     "iopub.status.busy": "2025-09-09T13:25:31.791949Z",
     "iopub.status.idle": "2025-09-09T13:25:45.387236Z",
     "shell.execute_reply": "2025-09-09T13:25:45.386296Z"
    },
    "papermill": {
     "duration": 13.601782,
     "end_time": "2025-09-09T13:25:45.388969",
     "exception": false,
     "start_time": "2025-09-09T13:25:31.787187",
     "status": "completed"
    },
    "tags": []
   },
   "outputs": [
    {
     "name": "stderr",
     "output_type": "stream",
     "text": [
      "100%|██████████| 700/700 [00:13<00:00, 51.61it/s]\n"
     ]
    }
   ],
   "source": [
    "X_yes = []\n",
    "for image in tqdm(os.listdir(tb_data)):\n",
    "    image_path = os.path.join(tb_data, image)\n",
    "    img = cv2.imread(image_path)\n",
    "    img = cv2.resize(img, (224, 224))\n",
    "    X_yes.append(img)"
   ]
  },
  {
   "cell_type": "code",
   "execution_count": 5,
   "id": "7b182d46",
   "metadata": {
    "execution": {
     "iopub.execute_input": "2025-09-09T13:25:45.408858Z",
     "iopub.status.busy": "2025-09-09T13:25:45.408561Z",
     "iopub.status.idle": "2025-09-09T13:25:45.444182Z",
     "shell.execute_reply": "2025-09-09T13:25:45.443450Z"
    },
    "papermill": {
     "duration": 0.047571,
     "end_time": "2025-09-09T13:25:45.446276",
     "exception": false,
     "start_time": "2025-09-09T13:25:45.398705",
     "status": "completed"
    },
    "tags": []
   },
   "outputs": [],
   "source": [
    "x_yes = np.array(X_yes)"
   ]
  },
  {
   "cell_type": "code",
   "execution_count": 6,
   "id": "fa5b1ce8",
   "metadata": {
    "execution": {
     "iopub.execute_input": "2025-09-09T13:25:45.467449Z",
     "iopub.status.busy": "2025-09-09T13:25:45.467202Z",
     "iopub.status.idle": "2025-09-09T13:26:18.111665Z",
     "shell.execute_reply": "2025-09-09T13:26:18.110723Z"
    },
    "papermill": {
     "duration": 32.656379,
     "end_time": "2025-09-09T13:26:18.113500",
     "exception": false,
     "start_time": "2025-09-09T13:25:45.457121",
     "status": "completed"
    },
    "tags": []
   },
   "outputs": [
    {
     "name": "stderr",
     "output_type": "stream",
     "text": [
      "100%|██████████| 700/700 [00:32<00:00, 21.45it/s]\n"
     ]
    }
   ],
   "source": [
    "datagen = ImageDataGenerator(rotation_range=20, width_shift_range=0.2, height_shift_range=0.2,\n",
    "                             horizontal_flip=True, fill_mode='nearest')\n",
    "\n",
    "aug_images = []\n",
    "for image in tqdm(x_yes):  \n",
    "    image = np.expand_dims(image, axis=0)  \n",
    "    i = 0\n",
    "    for batch in datagen.flow(image, batch_size=1):\n",
    "        aug_images.append(batch[0])  \n",
    "        i += 1\n",
    "        if i >= 5:  \n",
    "            break"
   ]
  },
  {
   "cell_type": "code",
   "execution_count": 7,
   "id": "658006f0",
   "metadata": {
    "execution": {
     "iopub.execute_input": "2025-09-09T13:26:18.152287Z",
     "iopub.status.busy": "2025-09-09T13:26:18.152026Z",
     "iopub.status.idle": "2025-09-09T13:26:18.161806Z",
     "shell.execute_reply": "2025-09-09T13:26:18.160907Z"
    },
    "papermill": {
     "duration": 0.030502,
     "end_time": "2025-09-09T13:26:18.163339",
     "exception": false,
     "start_time": "2025-09-09T13:26:18.132837",
     "status": "completed"
    },
    "tags": []
   },
   "outputs": [
    {
     "name": "stderr",
     "output_type": "stream",
     "text": [
      "100%|██████████| 3500/3500 [00:00<00:00, 1176758.64it/s]\n"
     ]
    }
   ],
   "source": [
    "TB_yes = []\n",
    "for image in tqdm(aug_images):\n",
    "    TB_yes.append([image, 1])"
   ]
  },
  {
   "cell_type": "code",
   "execution_count": 8,
   "id": "c078f81a",
   "metadata": {
    "execution": {
     "iopub.execute_input": "2025-09-09T13:26:18.201905Z",
     "iopub.status.busy": "2025-09-09T13:26:18.201219Z",
     "iopub.status.idle": "2025-09-09T13:27:25.373639Z",
     "shell.execute_reply": "2025-09-09T13:27:25.372727Z"
    },
    "papermill": {
     "duration": 67.193263,
     "end_time": "2025-09-09T13:27:25.375386",
     "exception": false,
     "start_time": "2025-09-09T13:26:18.182123",
     "status": "completed"
    },
    "tags": []
   },
   "outputs": [
    {
     "name": "stderr",
     "output_type": "stream",
     "text": [
      "100%|██████████| 3500/3500 [01:07<00:00, 52.15it/s]\n"
     ]
    }
   ],
   "source": [
    "X_no = []\n",
    "for image in tqdm(os.listdir(no_tb_data)):\n",
    "    image_path = os.path.join(no_tb_data, image)\n",
    "    img = cv2.imread(image_path)\n",
    "    img = cv2.resize(img, (224, 224))\n",
    "    X_no.append(img)"
   ]
  },
  {
   "cell_type": "code",
   "execution_count": 9,
   "id": "ab94e6ab",
   "metadata": {
    "execution": {
     "iopub.execute_input": "2025-09-09T13:27:25.464381Z",
     "iopub.status.busy": "2025-09-09T13:27:25.464067Z",
     "iopub.status.idle": "2025-09-09T13:27:25.472616Z",
     "shell.execute_reply": "2025-09-09T13:27:25.471825Z"
    },
    "papermill": {
     "duration": 0.053998,
     "end_time": "2025-09-09T13:27:25.474232",
     "exception": false,
     "start_time": "2025-09-09T13:27:25.420234",
     "status": "completed"
    },
    "tags": []
   },
   "outputs": [
    {
     "name": "stderr",
     "output_type": "stream",
     "text": [
      "100%|██████████| 3500/3500 [00:00<00:00, 1741200.81it/s]\n"
     ]
    }
   ],
   "source": [
    "TB_no = []\n",
    "for image in tqdm(X_no):\n",
    "    TB_no.append([image, 0])"
   ]
  },
  {
   "cell_type": "code",
   "execution_count": 10,
   "id": "3a0249d0",
   "metadata": {
    "execution": {
     "iopub.execute_input": "2025-09-09T13:27:25.561812Z",
     "iopub.status.busy": "2025-09-09T13:27:25.561100Z",
     "iopub.status.idle": "2025-09-09T13:27:25.564843Z",
     "shell.execute_reply": "2025-09-09T13:27:25.564071Z"
    },
    "papermill": {
     "duration": 0.049484,
     "end_time": "2025-09-09T13:27:25.566439",
     "exception": false,
     "start_time": "2025-09-09T13:27:25.516955",
     "status": "completed"
    },
    "tags": []
   },
   "outputs": [],
   "source": [
    "data = TB_yes + TB_no"
   ]
  },
  {
   "cell_type": "code",
   "execution_count": 11,
   "id": "3f4af3f3",
   "metadata": {
    "execution": {
     "iopub.execute_input": "2025-09-09T13:27:25.653948Z",
     "iopub.status.busy": "2025-09-09T13:27:25.653287Z",
     "iopub.status.idle": "2025-09-09T13:27:25.660062Z",
     "shell.execute_reply": "2025-09-09T13:27:25.659407Z"
    },
    "papermill": {
     "duration": 0.051968,
     "end_time": "2025-09-09T13:27:25.661551",
     "exception": false,
     "start_time": "2025-09-09T13:27:25.609583",
     "status": "completed"
    },
    "tags": []
   },
   "outputs": [],
   "source": [
    "random.shuffle(data)"
   ]
  },
  {
   "cell_type": "code",
   "execution_count": 12,
   "id": "079ac4cd",
   "metadata": {
    "execution": {
     "iopub.execute_input": "2025-09-09T13:27:25.750972Z",
     "iopub.status.busy": "2025-09-09T13:27:25.750407Z",
     "iopub.status.idle": "2025-09-09T13:27:25.761475Z",
     "shell.execute_reply": "2025-09-09T13:27:25.760814Z"
    },
    "papermill": {
     "duration": 0.057332,
     "end_time": "2025-09-09T13:27:25.763231",
     "exception": false,
     "start_time": "2025-09-09T13:27:25.705899",
     "status": "completed"
    },
    "tags": []
   },
   "outputs": [
    {
     "name": "stderr",
     "output_type": "stream",
     "text": [
      "100%|██████████| 7000/7000 [00:00<00:00, 1416652.74it/s]\n"
     ]
    }
   ],
   "source": [
    "X = []\n",
    "y = []\n",
    "for i, j in tqdm(data):\n",
    "    X.append(i)\n",
    "    y.append(j)"
   ]
  },
  {
   "cell_type": "code",
   "execution_count": 13,
   "id": "fc6578c6",
   "metadata": {
    "execution": {
     "iopub.execute_input": "2025-09-09T13:27:25.890880Z",
     "iopub.status.busy": "2025-09-09T13:27:25.890519Z",
     "iopub.status.idle": "2025-09-09T13:27:27.010318Z",
     "shell.execute_reply": "2025-09-09T13:27:27.009614Z"
    },
    "papermill": {
     "duration": 1.204355,
     "end_time": "2025-09-09T13:27:27.012247",
     "exception": false,
     "start_time": "2025-09-09T13:27:25.807892",
     "status": "completed"
    },
    "tags": []
   },
   "outputs": [],
   "source": [
    "x = np.array(X)\n",
    "y = np.array(y)"
   ]
  },
  {
   "cell_type": "code",
   "execution_count": 14,
   "id": "358e9ffe",
   "metadata": {
    "execution": {
     "iopub.execute_input": "2025-09-09T13:27:27.100636Z",
     "iopub.status.busy": "2025-09-09T13:27:27.100168Z",
     "iopub.status.idle": "2025-09-09T13:27:27.103977Z",
     "shell.execute_reply": "2025-09-09T13:27:27.103146Z"
    },
    "papermill": {
     "duration": 0.049404,
     "end_time": "2025-09-09T13:27:27.105554",
     "exception": false,
     "start_time": "2025-09-09T13:27:27.056150",
     "status": "completed"
    },
    "tags": []
   },
   "outputs": [],
   "source": [
    "x_train = x[:5500]\n",
    "y_train = y[:5500]"
   ]
  },
  {
   "cell_type": "code",
   "execution_count": 15,
   "id": "2321c6d7",
   "metadata": {
    "execution": {
     "iopub.execute_input": "2025-09-09T13:27:27.192373Z",
     "iopub.status.busy": "2025-09-09T13:27:27.192121Z",
     "iopub.status.idle": "2025-09-09T13:27:27.195711Z",
     "shell.execute_reply": "2025-09-09T13:27:27.194928Z"
    },
    "papermill": {
     "duration": 0.048774,
     "end_time": "2025-09-09T13:27:27.197253",
     "exception": false,
     "start_time": "2025-09-09T13:27:27.148479",
     "status": "completed"
    },
    "tags": []
   },
   "outputs": [],
   "source": [
    "x_test = x[5500:7000]\n",
    "y_test = y[5500:7000]"
   ]
  },
  {
   "cell_type": "code",
   "execution_count": 16,
   "id": "87b66ccc",
   "metadata": {
    "execution": {
     "iopub.execute_input": "2025-09-09T13:27:27.285652Z",
     "iopub.status.busy": "2025-09-09T13:27:27.284947Z",
     "iopub.status.idle": "2025-09-09T13:27:28.645627Z",
     "shell.execute_reply": "2025-09-09T13:27:28.644964Z"
    },
    "papermill": {
     "duration": 1.406651,
     "end_time": "2025-09-09T13:27:28.647512",
     "exception": false,
     "start_time": "2025-09-09T13:27:27.240861",
     "status": "completed"
    },
    "tags": []
   },
   "outputs": [
    {
     "name": "stderr",
     "output_type": "stream",
     "text": [
      "/opt/conda/lib/python3.10/site-packages/keras/src/layers/convolutional/base_conv.py:107: UserWarning: Do not pass an `input_shape`/`input_dim` argument to a layer. When using Sequential models, prefer using an `Input(shape)` object as the first layer in the model instead.\n",
      "  super().__init__(activity_regularizer=activity_regularizer, **kwargs)\n"
     ]
    }
   ],
   "source": [
    "from tensorflow.keras.models import Sequential\n",
    "from tensorflow.keras.layers import Conv2D, MaxPooling2D, Flatten, Dense, Dropout\n",
    "from tensorflow.keras.regularizers import l2\n",
    "\n",
    "model = Sequential()\n",
    "\n",
    "# Reduced number of filters, added regularization\n",
    "model.add(Conv2D(64, (3, 3), activation=\"relu\", input_shape=(224, 224, 3), kernel_regularizer=l2(0.001)))\n",
    "model.add(MaxPooling2D(2, 2))\n",
    "\n",
    "model.add(Conv2D(64, (3, 3), activation=\"relu\", kernel_regularizer=l2(0.001)))\n",
    "model.add(MaxPooling2D(2, 2))\n",
    "\n",
    "model.add(Conv2D(32, (3, 3), activation=\"relu\", kernel_regularizer=l2(0.001)))\n",
    "model.add(Conv2D(32, (3, 3), activation=\"relu\", kernel_regularizer=l2(0.001)))\n",
    "model.add(MaxPooling2D(2, 2))\n",
    "\n",
    "model.add(Flatten())\n",
    "model.add(Dense(64, activation=\"relu\", kernel_regularizer=l2(0.001)))\n",
    "# model.add(Dropout(0.4))\n",
    "model.add(Dense(32, activation=\"relu\", kernel_regularizer=l2(0.001)))\n",
    "model.add(Dropout(0.4))\n",
    "model.add(Dense(1, activation='sigmoid'))\n",
    "\n",
    "model.compile(optimizer=\"adam\", loss='binary_crossentropy', metrics=['accuracy'])\n"
   ]
  },
  {
   "cell_type": "code",
   "execution_count": 17,
   "id": "54efbcf5",
   "metadata": {
    "execution": {
     "iopub.execute_input": "2025-09-09T13:27:28.738790Z",
     "iopub.status.busy": "2025-09-09T13:27:28.738007Z",
     "iopub.status.idle": "2025-09-09T13:27:28.759371Z",
     "shell.execute_reply": "2025-09-09T13:27:28.758659Z"
    },
    "papermill": {
     "duration": 0.069035,
     "end_time": "2025-09-09T13:27:28.760827",
     "exception": false,
     "start_time": "2025-09-09T13:27:28.691792",
     "status": "completed"
    },
    "tags": []
   },
   "outputs": [
    {
     "data": {
      "text/html": [
       "<pre style=\"white-space:pre;overflow-x:auto;line-height:normal;font-family:Menlo,'DejaVu Sans Mono',consolas,'Courier New',monospace\"><span style=\"font-weight: bold\">Model: \"sequential\"</span>\n",
       "</pre>\n"
      ],
      "text/plain": [
       "\u001b[1mModel: \"sequential\"\u001b[0m\n"
      ]
     },
     "metadata": {},
     "output_type": "display_data"
    },
    {
     "data": {
      "text/html": [
       "<pre style=\"white-space:pre;overflow-x:auto;line-height:normal;font-family:Menlo,'DejaVu Sans Mono',consolas,'Courier New',monospace\">┏━━━━━━━━━━━━━━━━━━━━━━━━━━━━━━━━━┳━━━━━━━━━━━━━━━━━━━━━━━━┳━━━━━━━━━━━━━━━┓\n",
       "┃<span style=\"font-weight: bold\"> Layer (type)                    </span>┃<span style=\"font-weight: bold\"> Output Shape           </span>┃<span style=\"font-weight: bold\">       Param # </span>┃\n",
       "┡━━━━━━━━━━━━━━━━━━━━━━━━━━━━━━━━━╇━━━━━━━━━━━━━━━━━━━━━━━━╇━━━━━━━━━━━━━━━┩\n",
       "│ conv2d (<span style=\"color: #0087ff; text-decoration-color: #0087ff\">Conv2D</span>)                 │ (<span style=\"color: #00d7ff; text-decoration-color: #00d7ff\">None</span>, <span style=\"color: #00af00; text-decoration-color: #00af00\">222</span>, <span style=\"color: #00af00; text-decoration-color: #00af00\">222</span>, <span style=\"color: #00af00; text-decoration-color: #00af00\">64</span>)   │         <span style=\"color: #00af00; text-decoration-color: #00af00\">1,792</span> │\n",
       "├─────────────────────────────────┼────────────────────────┼───────────────┤\n",
       "│ max_pooling2d (<span style=\"color: #0087ff; text-decoration-color: #0087ff\">MaxPooling2D</span>)    │ (<span style=\"color: #00d7ff; text-decoration-color: #00d7ff\">None</span>, <span style=\"color: #00af00; text-decoration-color: #00af00\">111</span>, <span style=\"color: #00af00; text-decoration-color: #00af00\">111</span>, <span style=\"color: #00af00; text-decoration-color: #00af00\">64</span>)   │             <span style=\"color: #00af00; text-decoration-color: #00af00\">0</span> │\n",
       "├─────────────────────────────────┼────────────────────────┼───────────────┤\n",
       "│ conv2d_1 (<span style=\"color: #0087ff; text-decoration-color: #0087ff\">Conv2D</span>)               │ (<span style=\"color: #00d7ff; text-decoration-color: #00d7ff\">None</span>, <span style=\"color: #00af00; text-decoration-color: #00af00\">109</span>, <span style=\"color: #00af00; text-decoration-color: #00af00\">109</span>, <span style=\"color: #00af00; text-decoration-color: #00af00\">64</span>)   │        <span style=\"color: #00af00; text-decoration-color: #00af00\">36,928</span> │\n",
       "├─────────────────────────────────┼────────────────────────┼───────────────┤\n",
       "│ max_pooling2d_1 (<span style=\"color: #0087ff; text-decoration-color: #0087ff\">MaxPooling2D</span>)  │ (<span style=\"color: #00d7ff; text-decoration-color: #00d7ff\">None</span>, <span style=\"color: #00af00; text-decoration-color: #00af00\">54</span>, <span style=\"color: #00af00; text-decoration-color: #00af00\">54</span>, <span style=\"color: #00af00; text-decoration-color: #00af00\">64</span>)     │             <span style=\"color: #00af00; text-decoration-color: #00af00\">0</span> │\n",
       "├─────────────────────────────────┼────────────────────────┼───────────────┤\n",
       "│ conv2d_2 (<span style=\"color: #0087ff; text-decoration-color: #0087ff\">Conv2D</span>)               │ (<span style=\"color: #00d7ff; text-decoration-color: #00d7ff\">None</span>, <span style=\"color: #00af00; text-decoration-color: #00af00\">52</span>, <span style=\"color: #00af00; text-decoration-color: #00af00\">52</span>, <span style=\"color: #00af00; text-decoration-color: #00af00\">32</span>)     │        <span style=\"color: #00af00; text-decoration-color: #00af00\">18,464</span> │\n",
       "├─────────────────────────────────┼────────────────────────┼───────────────┤\n",
       "│ conv2d_3 (<span style=\"color: #0087ff; text-decoration-color: #0087ff\">Conv2D</span>)               │ (<span style=\"color: #00d7ff; text-decoration-color: #00d7ff\">None</span>, <span style=\"color: #00af00; text-decoration-color: #00af00\">50</span>, <span style=\"color: #00af00; text-decoration-color: #00af00\">50</span>, <span style=\"color: #00af00; text-decoration-color: #00af00\">32</span>)     │         <span style=\"color: #00af00; text-decoration-color: #00af00\">9,248</span> │\n",
       "├─────────────────────────────────┼────────────────────────┼───────────────┤\n",
       "│ max_pooling2d_2 (<span style=\"color: #0087ff; text-decoration-color: #0087ff\">MaxPooling2D</span>)  │ (<span style=\"color: #00d7ff; text-decoration-color: #00d7ff\">None</span>, <span style=\"color: #00af00; text-decoration-color: #00af00\">25</span>, <span style=\"color: #00af00; text-decoration-color: #00af00\">25</span>, <span style=\"color: #00af00; text-decoration-color: #00af00\">32</span>)     │             <span style=\"color: #00af00; text-decoration-color: #00af00\">0</span> │\n",
       "├─────────────────────────────────┼────────────────────────┼───────────────┤\n",
       "│ flatten (<span style=\"color: #0087ff; text-decoration-color: #0087ff\">Flatten</span>)               │ (<span style=\"color: #00d7ff; text-decoration-color: #00d7ff\">None</span>, <span style=\"color: #00af00; text-decoration-color: #00af00\">20000</span>)          │             <span style=\"color: #00af00; text-decoration-color: #00af00\">0</span> │\n",
       "├─────────────────────────────────┼────────────────────────┼───────────────┤\n",
       "│ dense (<span style=\"color: #0087ff; text-decoration-color: #0087ff\">Dense</span>)                   │ (<span style=\"color: #00d7ff; text-decoration-color: #00d7ff\">None</span>, <span style=\"color: #00af00; text-decoration-color: #00af00\">64</span>)             │     <span style=\"color: #00af00; text-decoration-color: #00af00\">1,280,064</span> │\n",
       "├─────────────────────────────────┼────────────────────────┼───────────────┤\n",
       "│ dense_1 (<span style=\"color: #0087ff; text-decoration-color: #0087ff\">Dense</span>)                 │ (<span style=\"color: #00d7ff; text-decoration-color: #00d7ff\">None</span>, <span style=\"color: #00af00; text-decoration-color: #00af00\">32</span>)             │         <span style=\"color: #00af00; text-decoration-color: #00af00\">2,080</span> │\n",
       "├─────────────────────────────────┼────────────────────────┼───────────────┤\n",
       "│ dropout (<span style=\"color: #0087ff; text-decoration-color: #0087ff\">Dropout</span>)               │ (<span style=\"color: #00d7ff; text-decoration-color: #00d7ff\">None</span>, <span style=\"color: #00af00; text-decoration-color: #00af00\">32</span>)             │             <span style=\"color: #00af00; text-decoration-color: #00af00\">0</span> │\n",
       "├─────────────────────────────────┼────────────────────────┼───────────────┤\n",
       "│ dense_2 (<span style=\"color: #0087ff; text-decoration-color: #0087ff\">Dense</span>)                 │ (<span style=\"color: #00d7ff; text-decoration-color: #00d7ff\">None</span>, <span style=\"color: #00af00; text-decoration-color: #00af00\">1</span>)              │            <span style=\"color: #00af00; text-decoration-color: #00af00\">33</span> │\n",
       "└─────────────────────────────────┴────────────────────────┴───────────────┘\n",
       "</pre>\n"
      ],
      "text/plain": [
       "┏━━━━━━━━━━━━━━━━━━━━━━━━━━━━━━━━━┳━━━━━━━━━━━━━━━━━━━━━━━━┳━━━━━━━━━━━━━━━┓\n",
       "┃\u001b[1m \u001b[0m\u001b[1mLayer (type)                   \u001b[0m\u001b[1m \u001b[0m┃\u001b[1m \u001b[0m\u001b[1mOutput Shape          \u001b[0m\u001b[1m \u001b[0m┃\u001b[1m \u001b[0m\u001b[1m      Param #\u001b[0m\u001b[1m \u001b[0m┃\n",
       "┡━━━━━━━━━━━━━━━━━━━━━━━━━━━━━━━━━╇━━━━━━━━━━━━━━━━━━━━━━━━╇━━━━━━━━━━━━━━━┩\n",
       "│ conv2d (\u001b[38;5;33mConv2D\u001b[0m)                 │ (\u001b[38;5;45mNone\u001b[0m, \u001b[38;5;34m222\u001b[0m, \u001b[38;5;34m222\u001b[0m, \u001b[38;5;34m64\u001b[0m)   │         \u001b[38;5;34m1,792\u001b[0m │\n",
       "├─────────────────────────────────┼────────────────────────┼───────────────┤\n",
       "│ max_pooling2d (\u001b[38;5;33mMaxPooling2D\u001b[0m)    │ (\u001b[38;5;45mNone\u001b[0m, \u001b[38;5;34m111\u001b[0m, \u001b[38;5;34m111\u001b[0m, \u001b[38;5;34m64\u001b[0m)   │             \u001b[38;5;34m0\u001b[0m │\n",
       "├─────────────────────────────────┼────────────────────────┼───────────────┤\n",
       "│ conv2d_1 (\u001b[38;5;33mConv2D\u001b[0m)               │ (\u001b[38;5;45mNone\u001b[0m, \u001b[38;5;34m109\u001b[0m, \u001b[38;5;34m109\u001b[0m, \u001b[38;5;34m64\u001b[0m)   │        \u001b[38;5;34m36,928\u001b[0m │\n",
       "├─────────────────────────────────┼────────────────────────┼───────────────┤\n",
       "│ max_pooling2d_1 (\u001b[38;5;33mMaxPooling2D\u001b[0m)  │ (\u001b[38;5;45mNone\u001b[0m, \u001b[38;5;34m54\u001b[0m, \u001b[38;5;34m54\u001b[0m, \u001b[38;5;34m64\u001b[0m)     │             \u001b[38;5;34m0\u001b[0m │\n",
       "├─────────────────────────────────┼────────────────────────┼───────────────┤\n",
       "│ conv2d_2 (\u001b[38;5;33mConv2D\u001b[0m)               │ (\u001b[38;5;45mNone\u001b[0m, \u001b[38;5;34m52\u001b[0m, \u001b[38;5;34m52\u001b[0m, \u001b[38;5;34m32\u001b[0m)     │        \u001b[38;5;34m18,464\u001b[0m │\n",
       "├─────────────────────────────────┼────────────────────────┼───────────────┤\n",
       "│ conv2d_3 (\u001b[38;5;33mConv2D\u001b[0m)               │ (\u001b[38;5;45mNone\u001b[0m, \u001b[38;5;34m50\u001b[0m, \u001b[38;5;34m50\u001b[0m, \u001b[38;5;34m32\u001b[0m)     │         \u001b[38;5;34m9,248\u001b[0m │\n",
       "├─────────────────────────────────┼────────────────────────┼───────────────┤\n",
       "│ max_pooling2d_2 (\u001b[38;5;33mMaxPooling2D\u001b[0m)  │ (\u001b[38;5;45mNone\u001b[0m, \u001b[38;5;34m25\u001b[0m, \u001b[38;5;34m25\u001b[0m, \u001b[38;5;34m32\u001b[0m)     │             \u001b[38;5;34m0\u001b[0m │\n",
       "├─────────────────────────────────┼────────────────────────┼───────────────┤\n",
       "│ flatten (\u001b[38;5;33mFlatten\u001b[0m)               │ (\u001b[38;5;45mNone\u001b[0m, \u001b[38;5;34m20000\u001b[0m)          │             \u001b[38;5;34m0\u001b[0m │\n",
       "├─────────────────────────────────┼────────────────────────┼───────────────┤\n",
       "│ dense (\u001b[38;5;33mDense\u001b[0m)                   │ (\u001b[38;5;45mNone\u001b[0m, \u001b[38;5;34m64\u001b[0m)             │     \u001b[38;5;34m1,280,064\u001b[0m │\n",
       "├─────────────────────────────────┼────────────────────────┼───────────────┤\n",
       "│ dense_1 (\u001b[38;5;33mDense\u001b[0m)                 │ (\u001b[38;5;45mNone\u001b[0m, \u001b[38;5;34m32\u001b[0m)             │         \u001b[38;5;34m2,080\u001b[0m │\n",
       "├─────────────────────────────────┼────────────────────────┼───────────────┤\n",
       "│ dropout (\u001b[38;5;33mDropout\u001b[0m)               │ (\u001b[38;5;45mNone\u001b[0m, \u001b[38;5;34m32\u001b[0m)             │             \u001b[38;5;34m0\u001b[0m │\n",
       "├─────────────────────────────────┼────────────────────────┼───────────────┤\n",
       "│ dense_2 (\u001b[38;5;33mDense\u001b[0m)                 │ (\u001b[38;5;45mNone\u001b[0m, \u001b[38;5;34m1\u001b[0m)              │            \u001b[38;5;34m33\u001b[0m │\n",
       "└─────────────────────────────────┴────────────────────────┴───────────────┘\n"
      ]
     },
     "metadata": {},
     "output_type": "display_data"
    },
    {
     "data": {
      "text/html": [
       "<pre style=\"white-space:pre;overflow-x:auto;line-height:normal;font-family:Menlo,'DejaVu Sans Mono',consolas,'Courier New',monospace\"><span style=\"font-weight: bold\"> Total params: </span><span style=\"color: #00af00; text-decoration-color: #00af00\">1,348,609</span> (5.14 MB)\n",
       "</pre>\n"
      ],
      "text/plain": [
       "\u001b[1m Total params: \u001b[0m\u001b[38;5;34m1,348,609\u001b[0m (5.14 MB)\n"
      ]
     },
     "metadata": {},
     "output_type": "display_data"
    },
    {
     "data": {
      "text/html": [
       "<pre style=\"white-space:pre;overflow-x:auto;line-height:normal;font-family:Menlo,'DejaVu Sans Mono',consolas,'Courier New',monospace\"><span style=\"font-weight: bold\"> Trainable params: </span><span style=\"color: #00af00; text-decoration-color: #00af00\">1,348,609</span> (5.14 MB)\n",
       "</pre>\n"
      ],
      "text/plain": [
       "\u001b[1m Trainable params: \u001b[0m\u001b[38;5;34m1,348,609\u001b[0m (5.14 MB)\n"
      ]
     },
     "metadata": {},
     "output_type": "display_data"
    },
    {
     "data": {
      "text/html": [
       "<pre style=\"white-space:pre;overflow-x:auto;line-height:normal;font-family:Menlo,'DejaVu Sans Mono',consolas,'Courier New',monospace\"><span style=\"font-weight: bold\"> Non-trainable params: </span><span style=\"color: #00af00; text-decoration-color: #00af00\">0</span> (0.00 B)\n",
       "</pre>\n"
      ],
      "text/plain": [
       "\u001b[1m Non-trainable params: \u001b[0m\u001b[38;5;34m0\u001b[0m (0.00 B)\n"
      ]
     },
     "metadata": {},
     "output_type": "display_data"
    }
   ],
   "source": [
    "model.summary()"
   ]
  },
  {
   "cell_type": "code",
   "execution_count": 18,
   "id": "f2e698e9",
   "metadata": {
    "execution": {
     "iopub.execute_input": "2025-09-09T13:27:28.850638Z",
     "iopub.status.busy": "2025-09-09T13:27:28.850097Z",
     "iopub.status.idle": "2025-09-09T13:34:53.085040Z",
     "shell.execute_reply": "2025-09-09T13:34:53.084222Z"
    },
    "papermill": {
     "duration": 444.281524,
     "end_time": "2025-09-09T13:34:53.087136",
     "exception": false,
     "start_time": "2025-09-09T13:27:28.805612",
     "status": "completed"
    },
    "tags": []
   },
   "outputs": [
    {
     "name": "stdout",
     "output_type": "stream",
     "text": [
      "Epoch 1/50\n"
     ]
    },
    {
     "name": "stderr",
     "output_type": "stream",
     "text": [
      "WARNING: All log messages before absl::InitializeLog() is called are written to STDERR\n",
      "I0000 00:00:1757424457.220417      69 service.cc:145] XLA service 0x7d20d800e380 initialized for platform CUDA (this does not guarantee that XLA will be used). Devices:\n",
      "I0000 00:00:1757424457.220476      69 service.cc:153]   StreamExecutor device (0): Tesla T4, Compute Capability 7.5\n",
      "I0000 00:00:1757424457.220480      69 service.cc:153]   StreamExecutor device (1): Tesla T4, Compute Capability 7.5\n"
     ]
    },
    {
     "name": "stdout",
     "output_type": "stream",
     "text": [
      "\u001b[1m  7/275\u001b[0m \u001b[37m━━━━━━━━━━━━━━━━━━━━\u001b[0m \u001b[1m7s\u001b[0m 28ms/step - accuracy: 0.4874 - loss: 13.4249"
     ]
    },
    {
     "name": "stderr",
     "output_type": "stream",
     "text": [
      "I0000 00:00:1757424464.333167      69 device_compiler.h:188] Compiled cluster using XLA!  This line is logged at most once for the lifetime of the process.\n"
     ]
    },
    {
     "name": "stdout",
     "output_type": "stream",
     "text": [
      "\u001b[1m275/275\u001b[0m \u001b[32m━━━━━━━━━━━━━━━━━━━━\u001b[0m\u001b[37m\u001b[0m \u001b[1m21s\u001b[0m 42ms/step - accuracy: 0.7323 - loss: 2.0513 - val_accuracy: 0.9400 - val_loss: 0.3548\n",
      "Epoch 2/50\n",
      "\u001b[1m275/275\u001b[0m \u001b[32m━━━━━━━━━━━━━━━━━━━━\u001b[0m\u001b[37m\u001b[0m \u001b[1m8s\u001b[0m 31ms/step - accuracy: 0.9159 - loss: 0.4765 - val_accuracy: 0.9636 - val_loss: 0.3103\n",
      "Epoch 3/50\n",
      "\u001b[1m275/275\u001b[0m \u001b[32m━━━━━━━━━━━━━━━━━━━━\u001b[0m\u001b[37m\u001b[0m \u001b[1m8s\u001b[0m 31ms/step - accuracy: 0.9618 - loss: 0.3227 - val_accuracy: 0.9636 - val_loss: 0.2760\n",
      "Epoch 4/50\n",
      "\u001b[1m275/275\u001b[0m \u001b[32m━━━━━━━━━━━━━━━━━━━━\u001b[0m\u001b[37m\u001b[0m \u001b[1m8s\u001b[0m 31ms/step - accuracy: 0.9514 - loss: 0.3371 - val_accuracy: 0.9609 - val_loss: 0.3344\n",
      "Epoch 5/50\n",
      "\u001b[1m275/275\u001b[0m \u001b[32m━━━━━━━━━━━━━━━━━━━━\u001b[0m\u001b[37m\u001b[0m \u001b[1m8s\u001b[0m 31ms/step - accuracy: 0.9659 - loss: 0.2830 - val_accuracy: 0.9782 - val_loss: 0.2340\n",
      "Epoch 6/50\n",
      "\u001b[1m275/275\u001b[0m \u001b[32m━━━━━━━━━━━━━━━━━━━━\u001b[0m\u001b[37m\u001b[0m \u001b[1m8s\u001b[0m 31ms/step - accuracy: 0.9854 - loss: 0.2374 - val_accuracy: 0.9791 - val_loss: 0.2216\n",
      "Epoch 7/50\n",
      "\u001b[1m275/275\u001b[0m \u001b[32m━━━━━━━━━━━━━━━━━━━━\u001b[0m\u001b[37m\u001b[0m \u001b[1m8s\u001b[0m 31ms/step - accuracy: 0.9831 - loss: 0.1951 - val_accuracy: 0.9764 - val_loss: 0.2349\n",
      "Epoch 8/50\n",
      "\u001b[1m275/275\u001b[0m \u001b[32m━━━━━━━━━━━━━━━━━━━━\u001b[0m\u001b[37m\u001b[0m \u001b[1m9s\u001b[0m 31ms/step - accuracy: 0.9795 - loss: 0.2062 - val_accuracy: 0.9773 - val_loss: 0.2164\n",
      "Epoch 9/50\n",
      "\u001b[1m275/275\u001b[0m \u001b[32m━━━━━━━━━━━━━━━━━━━━\u001b[0m\u001b[37m\u001b[0m \u001b[1m8s\u001b[0m 31ms/step - accuracy: 0.9800 - loss: 0.2034 - val_accuracy: 0.9827 - val_loss: 0.2069\n",
      "Epoch 10/50\n",
      "\u001b[1m275/275\u001b[0m \u001b[32m━━━━━━━━━━━━━━━━━━━━\u001b[0m\u001b[37m\u001b[0m \u001b[1m8s\u001b[0m 31ms/step - accuracy: 0.9773 - loss: 0.1917 - val_accuracy: 0.9764 - val_loss: 0.2314\n",
      "Epoch 11/50\n",
      "\u001b[1m275/275\u001b[0m \u001b[32m━━━━━━━━━━━━━━━━━━━━\u001b[0m\u001b[37m\u001b[0m \u001b[1m9s\u001b[0m 31ms/step - accuracy: 0.9780 - loss: 0.2066 - val_accuracy: 0.9655 - val_loss: 0.2778\n",
      "Epoch 12/50\n",
      "\u001b[1m275/275\u001b[0m \u001b[32m━━━━━━━━━━━━━━━━━━━━\u001b[0m\u001b[37m\u001b[0m \u001b[1m9s\u001b[0m 31ms/step - accuracy: 0.9798 - loss: 0.1967 - val_accuracy: 0.9736 - val_loss: 0.2066\n",
      "Epoch 13/50\n",
      "\u001b[1m275/275\u001b[0m \u001b[32m━━━━━━━━━━━━━━━━━━━━\u001b[0m\u001b[37m\u001b[0m \u001b[1m9s\u001b[0m 31ms/step - accuracy: 0.9862 - loss: 0.1501 - val_accuracy: 0.9773 - val_loss: 0.2320\n",
      "Epoch 14/50\n",
      "\u001b[1m275/275\u001b[0m \u001b[32m━━━━━━━━━━━━━━━━━━━━\u001b[0m\u001b[37m\u001b[0m \u001b[1m9s\u001b[0m 31ms/step - accuracy: 0.9869 - loss: 0.1614 - val_accuracy: 0.9600 - val_loss: 0.2718\n",
      "Epoch 15/50\n",
      "\u001b[1m275/275\u001b[0m \u001b[32m━━━━━━━━━━━━━━━━━━━━\u001b[0m\u001b[37m\u001b[0m \u001b[1m9s\u001b[0m 31ms/step - accuracy: 0.9782 - loss: 0.1605 - val_accuracy: 0.9755 - val_loss: 0.1970\n",
      "Epoch 16/50\n",
      "\u001b[1m275/275\u001b[0m \u001b[32m━━━━━━━━━━━━━━━━━━━━\u001b[0m\u001b[37m\u001b[0m \u001b[1m9s\u001b[0m 31ms/step - accuracy: 0.9920 - loss: 0.1136 - val_accuracy: 0.9645 - val_loss: 0.2500\n",
      "Epoch 17/50\n",
      "\u001b[1m275/275\u001b[0m \u001b[32m━━━━━━━━━━━━━━━━━━━━\u001b[0m\u001b[37m\u001b[0m \u001b[1m9s\u001b[0m 31ms/step - accuracy: 0.9734 - loss: 0.1872 - val_accuracy: 0.9755 - val_loss: 0.2144\n",
      "Epoch 18/50\n",
      "\u001b[1m275/275\u001b[0m \u001b[32m━━━━━━━━━━━━━━━━━━━━\u001b[0m\u001b[37m\u001b[0m \u001b[1m9s\u001b[0m 31ms/step - accuracy: 0.9854 - loss: 0.1476 - val_accuracy: 0.9736 - val_loss: 0.2098\n",
      "Epoch 19/50\n",
      "\u001b[1m275/275\u001b[0m \u001b[32m━━━━━━━━━━━━━━━━━━━━\u001b[0m\u001b[37m\u001b[0m \u001b[1m8s\u001b[0m 31ms/step - accuracy: 0.9914 - loss: 0.1286 - val_accuracy: 0.9618 - val_loss: 0.2669\n",
      "Epoch 20/50\n",
      "\u001b[1m275/275\u001b[0m \u001b[32m━━━━━━━━━━━━━━━━━━━━\u001b[0m\u001b[37m\u001b[0m \u001b[1m8s\u001b[0m 31ms/step - accuracy: 0.9891 - loss: 0.1202 - val_accuracy: 0.9755 - val_loss: 0.2152\n",
      "Epoch 21/50\n",
      "\u001b[1m275/275\u001b[0m \u001b[32m━━━━━━━━━━━━━━━━━━━━\u001b[0m\u001b[37m\u001b[0m \u001b[1m8s\u001b[0m 31ms/step - accuracy: 0.9920 - loss: 0.1040 - val_accuracy: 0.9645 - val_loss: 0.3458\n",
      "Epoch 22/50\n",
      "\u001b[1m275/275\u001b[0m \u001b[32m━━━━━━━━━━━━━━━━━━━━\u001b[0m\u001b[37m\u001b[0m \u001b[1m8s\u001b[0m 31ms/step - accuracy: 0.9859 - loss: 0.1424 - val_accuracy: 0.9673 - val_loss: 0.2605\n",
      "Epoch 23/50\n",
      "\u001b[1m275/275\u001b[0m \u001b[32m━━━━━━━━━━━━━━━━━━━━\u001b[0m\u001b[37m\u001b[0m \u001b[1m8s\u001b[0m 31ms/step - accuracy: 0.9785 - loss: 0.1801 - val_accuracy: 0.9445 - val_loss: 0.2976\n",
      "Epoch 24/50\n",
      "\u001b[1m275/275\u001b[0m \u001b[32m━━━━━━━━━━━━━━━━━━━━\u001b[0m\u001b[37m\u001b[0m \u001b[1m9s\u001b[0m 31ms/step - accuracy: 0.9848 - loss: 0.1656 - val_accuracy: 0.9691 - val_loss: 0.2235\n",
      "Epoch 25/50\n",
      "\u001b[1m275/275\u001b[0m \u001b[32m━━━━━━━━━━━━━━━━━━━━\u001b[0m\u001b[37m\u001b[0m \u001b[1m9s\u001b[0m 31ms/step - accuracy: 0.9926 - loss: 0.1222 - val_accuracy: 0.9755 - val_loss: 0.2396\n",
      "Epoch 26/50\n",
      "\u001b[1m275/275\u001b[0m \u001b[32m━━━━━━━━━━━━━━━━━━━━\u001b[0m\u001b[37m\u001b[0m \u001b[1m9s\u001b[0m 31ms/step - accuracy: 0.9916 - loss: 0.1113 - val_accuracy: 0.9736 - val_loss: 0.1867\n",
      "Epoch 27/50\n",
      "\u001b[1m275/275\u001b[0m \u001b[32m━━━━━━━━━━━━━━━━━━━━\u001b[0m\u001b[37m\u001b[0m \u001b[1m9s\u001b[0m 31ms/step - accuracy: 0.9973 - loss: 0.0853 - val_accuracy: 0.9773 - val_loss: 0.1792\n",
      "Epoch 28/50\n",
      "\u001b[1m275/275\u001b[0m \u001b[32m━━━━━━━━━━━━━━━━━━━━\u001b[0m\u001b[37m\u001b[0m \u001b[1m9s\u001b[0m 31ms/step - accuracy: 0.9974 - loss: 0.0771 - val_accuracy: 0.9727 - val_loss: 0.2045\n",
      "Epoch 29/50\n",
      "\u001b[1m275/275\u001b[0m \u001b[32m━━━━━━━━━━━━━━━━━━━━\u001b[0m\u001b[37m\u001b[0m \u001b[1m9s\u001b[0m 31ms/step - accuracy: 0.9949 - loss: 0.0760 - val_accuracy: 0.9673 - val_loss: 0.1894\n",
      "Epoch 30/50\n",
      "\u001b[1m275/275\u001b[0m \u001b[32m━━━━━━━━━━━━━━━━━━━━\u001b[0m\u001b[37m\u001b[0m \u001b[1m9s\u001b[0m 31ms/step - accuracy: 0.9915 - loss: 0.0984 - val_accuracy: 0.9736 - val_loss: 0.2629\n",
      "Epoch 31/50\n",
      "\u001b[1m275/275\u001b[0m \u001b[32m━━━━━━━━━━━━━━━━━━━━\u001b[0m\u001b[37m\u001b[0m \u001b[1m8s\u001b[0m 31ms/step - accuracy: 0.9849 - loss: 0.1675 - val_accuracy: 0.9718 - val_loss: 0.2473\n",
      "Epoch 32/50\n",
      "\u001b[1m275/275\u001b[0m \u001b[32m━━━━━━━━━━━━━━━━━━━━\u001b[0m\u001b[37m\u001b[0m \u001b[1m9s\u001b[0m 31ms/step - accuracy: 0.9940 - loss: 0.1152 - val_accuracy: 0.9691 - val_loss: 0.2173\n",
      "Epoch 33/50\n",
      "\u001b[1m275/275\u001b[0m \u001b[32m━━━━━━━━━━━━━━━━━━━━\u001b[0m\u001b[37m\u001b[0m \u001b[1m9s\u001b[0m 31ms/step - accuracy: 0.9951 - loss: 0.1033 - val_accuracy: 0.9745 - val_loss: 0.1816\n",
      "Epoch 34/50\n",
      "\u001b[1m275/275\u001b[0m \u001b[32m━━━━━━━━━━━━━━━━━━━━\u001b[0m\u001b[37m\u001b[0m \u001b[1m9s\u001b[0m 31ms/step - accuracy: 0.9953 - loss: 0.0918 - val_accuracy: 0.9745 - val_loss: 0.2314\n",
      "Epoch 35/50\n",
      "\u001b[1m275/275\u001b[0m \u001b[32m━━━━━━━━━━━━━━━━━━━━\u001b[0m\u001b[37m\u001b[0m \u001b[1m9s\u001b[0m 31ms/step - accuracy: 0.9905 - loss: 0.1068 - val_accuracy: 0.9727 - val_loss: 0.1601\n",
      "Epoch 36/50\n",
      "\u001b[1m275/275\u001b[0m \u001b[32m━━━━━━━━━━━━━━━━━━━━\u001b[0m\u001b[37m\u001b[0m \u001b[1m9s\u001b[0m 31ms/step - accuracy: 0.9982 - loss: 0.0796 - val_accuracy: 0.9655 - val_loss: 0.2098\n",
      "Epoch 37/50\n",
      "\u001b[1m275/275\u001b[0m \u001b[32m━━━━━━━━━━━━━━━━━━━━\u001b[0m\u001b[37m\u001b[0m \u001b[1m9s\u001b[0m 31ms/step - accuracy: 0.9913 - loss: 0.0876 - val_accuracy: 0.9655 - val_loss: 0.1738\n",
      "Epoch 38/50\n",
      "\u001b[1m275/275\u001b[0m \u001b[32m━━━━━━━━━━━━━━━━━━━━\u001b[0m\u001b[37m\u001b[0m \u001b[1m8s\u001b[0m 31ms/step - accuracy: 0.9983 - loss: 0.0716 - val_accuracy: 0.9718 - val_loss: 0.2398\n",
      "Epoch 39/50\n",
      "\u001b[1m275/275\u001b[0m \u001b[32m━━━━━━━━━━━━━━━━━━━━\u001b[0m\u001b[37m\u001b[0m \u001b[1m9s\u001b[0m 31ms/step - accuracy: 0.9986 - loss: 0.0534 - val_accuracy: 0.9773 - val_loss: 0.2139\n",
      "Epoch 40/50\n",
      "\u001b[1m275/275\u001b[0m \u001b[32m━━━━━━━━━━━━━━━━━━━━\u001b[0m\u001b[37m\u001b[0m \u001b[1m9s\u001b[0m 31ms/step - accuracy: 0.9992 - loss: 0.0444 - val_accuracy: 0.9782 - val_loss: 0.2215\n",
      "Epoch 41/50\n",
      "\u001b[1m275/275\u001b[0m \u001b[32m━━━━━━━━━━━━━━━━━━━━\u001b[0m\u001b[37m\u001b[0m \u001b[1m8s\u001b[0m 31ms/step - accuracy: 0.9764 - loss: 0.1561 - val_accuracy: 0.9764 - val_loss: 0.1889\n",
      "Epoch 42/50\n",
      "\u001b[1m275/275\u001b[0m \u001b[32m━━━━━━━━━━━━━━━━━━━━\u001b[0m\u001b[37m\u001b[0m \u001b[1m8s\u001b[0m 31ms/step - accuracy: 0.9976 - loss: 0.0694 - val_accuracy: 0.9800 - val_loss: 0.1347\n",
      "Epoch 43/50\n",
      "\u001b[1m275/275\u001b[0m \u001b[32m━━━━━━━━━━━━━━━━━━━━\u001b[0m\u001b[37m\u001b[0m \u001b[1m8s\u001b[0m 31ms/step - accuracy: 0.9988 - loss: 0.0518 - val_accuracy: 0.9818 - val_loss: 0.1826\n",
      "Epoch 44/50\n",
      "\u001b[1m275/275\u001b[0m \u001b[32m━━━━━━━━━━━━━━━━━━━━\u001b[0m\u001b[37m\u001b[0m \u001b[1m8s\u001b[0m 31ms/step - accuracy: 0.9960 - loss: 0.0542 - val_accuracy: 0.9627 - val_loss: 0.2260\n",
      "Epoch 45/50\n",
      "\u001b[1m275/275\u001b[0m \u001b[32m━━━━━━━━━━━━━━━━━━━━\u001b[0m\u001b[37m\u001b[0m \u001b[1m8s\u001b[0m 31ms/step - accuracy: 0.9922 - loss: 0.0766 - val_accuracy: 0.9827 - val_loss: 0.1342\n",
      "Epoch 46/50\n",
      "\u001b[1m275/275\u001b[0m \u001b[32m━━━━━━━━━━━━━━━━━━━━\u001b[0m\u001b[37m\u001b[0m \u001b[1m8s\u001b[0m 31ms/step - accuracy: 0.9987 - loss: 0.0496 - val_accuracy: 0.9773 - val_loss: 0.1724\n",
      "Epoch 47/50\n",
      "\u001b[1m275/275\u001b[0m \u001b[32m━━━━━━━━━━━━━━━━━━━━\u001b[0m\u001b[37m\u001b[0m \u001b[1m8s\u001b[0m 31ms/step - accuracy: 0.9978 - loss: 0.0504 - val_accuracy: 0.9773 - val_loss: 0.1404\n",
      "Epoch 48/50\n",
      "\u001b[1m275/275\u001b[0m \u001b[32m━━━━━━━━━━━━━━━━━━━━\u001b[0m\u001b[37m\u001b[0m \u001b[1m8s\u001b[0m 31ms/step - accuracy: 0.9986 - loss: 0.0521 - val_accuracy: 0.9827 - val_loss: 0.1345\n",
      "Epoch 49/50\n",
      "\u001b[1m275/275\u001b[0m \u001b[32m━━━━━━━━━━━━━━━━━━━━\u001b[0m\u001b[37m\u001b[0m \u001b[1m8s\u001b[0m 31ms/step - accuracy: 0.9985 - loss: 0.0459 - val_accuracy: 0.9800 - val_loss: 0.1216\n",
      "Epoch 50/50\n",
      "\u001b[1m275/275\u001b[0m \u001b[32m━━━━━━━━━━━━━━━━━━━━\u001b[0m\u001b[37m\u001b[0m \u001b[1m8s\u001b[0m 31ms/step - accuracy: 0.9920 - loss: 0.0700 - val_accuracy: 0.9664 - val_loss: 0.1958\n"
     ]
    }
   ],
   "source": [
    "# history = model.fit(x_train, y_train, validation_split= .2, epochs = 10)\n",
    "history = model.fit(\n",
    "    x_train, y_train,\n",
    "    validation_split=.2,\n",
    "    epochs=50,batch_size=16\n",
    ")"
   ]
  },
  {
   "cell_type": "code",
   "execution_count": 19,
   "id": "e39f5911",
   "metadata": {
    "execution": {
     "iopub.execute_input": "2025-09-09T13:34:53.855424Z",
     "iopub.status.busy": "2025-09-09T13:34:53.854431Z",
     "iopub.status.idle": "2025-09-09T13:34:54.489453Z",
     "shell.execute_reply": "2025-09-09T13:34:54.488637Z"
    },
    "papermill": {
     "duration": 1.001275,
     "end_time": "2025-09-09T13:34:54.491926",
     "exception": false,
     "start_time": "2025-09-09T13:34:53.490651",
     "status": "completed"
    },
    "tags": []
   },
   "outputs": [
    {
     "data": {
      "image/png": "[encoded data removed]",
      "text/plain": [
       "<Figure size 1200x500 with 2 Axes>"
      ]
     },
     "metadata": {},
     "output_type": "display_data"
    }
   ],
   "source": [
    "plt.figure(figsize=(12, 5))\n",
    "\n",
    "plt.subplot(1, 2, 1)\n",
    "plt.plot(history.history['accuracy'], label='Train Accuracy')\n",
    "plt.plot(history.history['val_accuracy'], label='Val Accuracy')\n",
    "plt.title('Model Accuracy')\n",
    "plt.xlabel('Epochs')\n",
    "plt.ylabel('Accuracy')\n",
    "plt.legend()\n",
    "\n",
    "\n",
    "plt.subplot(1, 2, 2)\n",
    "plt.plot(history.history['loss'], label='Train Loss')\n",
    "plt.plot(history.history['val_loss'], label='Val Loss')\n",
    "plt.title('Model Loss')\n",
    "plt.xlabel('Epochs')\n",
    "plt.ylabel('Loss')\n",
    "plt.legend()\n",
    "\n",
    "plt.tight_layout()\n",
    "plt.show()"
   ]
  },
  {
   "cell_type": "code",
   "execution_count": 20,
   "id": "1dc4f955",
   "metadata": {
    "execution": {
     "iopub.execute_input": "2025-09-09T13:34:55.264636Z",
     "iopub.status.busy": "2025-09-09T13:34:55.264296Z",
     "iopub.status.idle": "2025-09-09T13:35:01.725740Z",
     "shell.execute_reply": "2025-09-09T13:35:01.725086Z"
    },
    "papermill": {
     "duration": 6.867287,
     "end_time": "2025-09-09T13:35:01.727622",
     "exception": false,
     "start_time": "2025-09-09T13:34:54.860335",
     "status": "completed"
    },
    "tags": []
   },
   "outputs": [
    {
     "name": "stdout",
     "output_type": "stream",
     "text": [
      "\u001b[1m47/47\u001b[0m \u001b[32m━━━━━━━━━━━━━━━━━━━━\u001b[0m\u001b[37m\u001b[0m \u001b[1m4s\u001b[0m 50ms/step\n"
     ]
    }
   ],
   "source": [
    "threshold = 0.5\n",
    "y_pred = (model.predict(x_test)>= threshold).astype(int)"
   ]
  },
  {
   "cell_type": "code",
   "execution_count": 21,
   "id": "0068e9e7",
   "metadata": {
    "execution": {
     "iopub.execute_input": "2025-09-09T13:35:02.452698Z",
     "iopub.status.busy": "2025-09-09T13:35:02.452351Z",
     "iopub.status.idle": "2025-09-09T13:35:02.617855Z",
     "shell.execute_reply": "2025-09-09T13:35:02.616893Z"
    },
    "papermill": {
     "duration": 0.524992,
     "end_time": "2025-09-09T13:35:02.620815",
     "exception": false,
     "start_time": "2025-09-09T13:35:02.095823",
     "status": "completed"
    },
    "tags": []
   },
   "outputs": [
    {
     "data": {
      "text/plain": [
       "<Figure size 1200x1000 with 0 Axes>"
      ]
     },
     "metadata": {},
     "output_type": "display_data"
    },
    {
     "data": {
      "image/png": "[encoded data removed]",
      "text/plain": [
       "<Figure size 640x480 with 2 Axes>"
      ]
     },
     "metadata": {},
     "output_type": "display_data"
    }
   ],
   "source": [
    "cm = confusion_matrix(y_test, y_pred)\n",
    "plt.figure(figsize=(12,10))\n",
    "disp = ConfusionMatrixDisplay(confusion_matrix=cm, display_labels=['0', '1'])\n",
    "disp.plot(cmap=plt.cm.Blues)\n",
    "plt.xticks(rotation=90)\n",
    "plt.show()"
   ]
  },
  {
   "cell_type": "code",
   "execution_count": 22,
   "id": "ed8423b5",
   "metadata": {
    "execution": {
     "iopub.execute_input": "2025-09-09T13:35:03.413474Z",
     "iopub.status.busy": "2025-09-09T13:35:03.413131Z",
     "iopub.status.idle": "2025-09-09T13:35:07.383973Z",
     "shell.execute_reply": "2025-09-09T13:35:07.383081Z"
    },
    "papermill": {
     "duration": 4.33314,
     "end_time": "2025-09-09T13:35:07.385627",
     "exception": false,
     "start_time": "2025-09-09T13:35:03.052487",
     "status": "completed"
    },
    "tags": []
   },
   "outputs": [
    {
     "name": "stdout",
     "output_type": "stream",
     "text": [
      "\u001b[1m47/47\u001b[0m \u001b[32m━━━━━━━━━━━━━━━━━━━━\u001b[0m\u001b[37m\u001b[0m \u001b[1m2s\u001b[0m 28ms/step - accuracy: 0.9687 - loss: 0.1792\n"
     ]
    },
    {
     "data": {
      "text/plain": [
       "[0.1861916482448578, 0.9679999947547913]"
      ]
     },
     "execution_count": 22,
     "metadata": {},
     "output_type": "execute_result"
    }
   ],
   "source": [
    "model.evaluate(x_test, y_test)"
   ]
  },
  {
   "cell_type": "code",
   "execution_count": null,
   "id": "bd4e58a6",
   "metadata": {
    "papermill": {
     "duration": 0.400434,
     "end_time": "2025-09-09T13:35:08.155852",
     "exception": false,
     "start_time": "2025-09-09T13:35:07.755418",
     "status": "completed"
    },
    "tags": []
   },
   "outputs": [],
   "source": []
  }
 ],
 "metadata": {
  "kaggle": {
   "accelerator": "nvidiaTeslaT4",
   "dataSources": [
    {
     "datasetId": 891819,
     "sourceId": 2332307,
     "sourceType": "datasetVersion"
    }
   ],
   "dockerImageVersionId": 30787,
   "isGpuEnabled": true,
   "isInternetEnabled": true,
   "language": "python",
   "sourceType": "notebook"
  },
  "kernelspec": {
   "display_name": "Python 3",
   "language": "python",
   "name": "python3"
  },
  "language_info": {
   "codemirror_mode": {
    "name": "ipython",
    "version": 3
   },
   "file_extension": ".py",
   "mimetype": "text/x-python",
   "name": "python",
   "nbconvert_exporter": "python",
   "pygments_lexer": "ipython3",
   "version": "3.10.14"
  },
  "papermill": {
   "default_parameters": {},
   "duration": 605.521654,
   "end_time": "2025-09-09T13:35:12.148246",
   "environment_variables": {},
   "exception": null,
   "input_path": "__notebook__.ipynb",
   "output_path": "__notebook__.ipynb",
   "parameters": {},
   "start_time": "2025-09-09T13:25:06.626592",
   "version": "2.6.0"
  }
 },
 "nbformat": 4,
 "nbformat_minor": 5
}
